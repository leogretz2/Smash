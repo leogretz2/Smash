{
 "cells": [
  {
   "cell_type": "markdown",
   "id": "cd793125",
   "metadata": {},
   "source": [
    "# Regiment V.V\n",
    "\n",
    "## Part 1 - Implement a Stack"
   ]
  },
  {
   "cell_type": "code",
   "execution_count": 24,
   "id": "036d85d0",
   "metadata": {},
   "outputs": [
    {
     "name": "stdout",
     "output_type": "stream",
     "text": [
      "False\n"
     ]
    },
    {
     "data": {
      "text/plain": [
       "2"
      ]
     },
     "execution_count": 24,
     "metadata": {},
     "output_type": "execute_result"
    }
   ],
   "source": [
    "# do with an array\n",
    "\n",
    "class Stack:\n",
    "    def __init__(self):\n",
    "        self.items = []\n",
    "        \n",
    "    def isEmpty(self):\n",
    "        return self.items == []\n",
    "        \n",
    "    def push(self, item):\n",
    "        return self.items.append(item)\n",
    "        \n",
    "    def pop(self):\n",
    "        return self.items.pop()\n",
    "        \n",
    "    def peek(self):\n",
    "        return self.items[-1]\n",
    "    \n",
    "    def size(self):\n",
    "        return len(self.items)\n",
    "    \n",
    "s = Stack()\n",
    "s.push(';asd')\n",
    "s.push('asdfff')\n",
    "s.push('asdf')\n",
    "print(s.isEmpty())\n",
    "s.peek()\n",
    "s.pop()\n",
    "s.size()"
   ]
  },
  {
   "cell_type": "markdown",
   "id": "22f24a33",
   "metadata": {},
   "source": [
    "## Part 2 - Implement a Queue"
   ]
  },
  {
   "cell_type": "code",
   "execution_count": 3,
   "id": "475610c6",
   "metadata": {},
   "outputs": [
    {
     "data": {
      "text/plain": [
       "0"
      ]
     },
     "execution_count": 3,
     "metadata": {},
     "output_type": "execute_result"
    }
   ],
   "source": [
    "# do with an array\n",
    "\n",
    "class Queue:\n",
    "    def __init__(self):\n",
    "        self.items = []\n",
    "      \n",
    "    def isEmpty(self):\n",
    "        return self.items == []\n",
    "    \n",
    "    def enqueue(self, item):\n",
    "        return self.items.insert(0,item)\n",
    "    \n",
    "    def dequeue(self):\n",
    "        return self.items.pop()\n",
    "    \n",
    "    def size(self):\n",
    "        return len(self.items)\n",
    "    \n",
    "    def peek(self):\n",
    "        return self.items[-1]\n",
    "        \n",
    "    \n",
    "q = Queue()\n",
    "q.isEmpty()\n",
    "q.size()"
   ]
  },
  {
   "cell_type": "markdown",
   "id": "13d6e45e",
   "metadata": {},
   "source": [
    "# Regiment VI - Implement a Heap"
   ]
  },
  {
   "cell_type": "markdown",
   "id": "bfb3cf93",
   "metadata": {},
   "source": [
    "## Part 1 - Research on Heap"
   ]
  },
  {
   "cell_type": "code",
   "execution_count": 10,
   "id": "448a2256",
   "metadata": {},
   "outputs": [],
   "source": [
    "# write shit learned here\n",
    "\n",
    "# Heap is a tree structure --> either max-heap (largest element is at root, recursively) or min-heap (smallest element is at root, recursively)\n",
    "\n",
    "# Insertion at the bottom of the tree left to right, compare with parent and bubble up until in correct position\n",
    "\n",
    "# If delete root node, put last added node at root and bubble down to next open spot (first one can get to with no children)\n",
    "\n",
    "# Each node is filled so can be stored in an array with a simple equation for index. \n",
    "# - call index = ind, parent = (ind - 1)/2, left child = ind*2+1, right child = ind*2+2\n",
    "\n",
    "class Heap:\n",
    "    def __init__(self, capacity):\n",
    "        self.storage = [0]*capacity\n",
    "        self.capacity = capacity\n",
    "        self.size = 0\n",
    "        \n",
    "    def getParentInd(self, index):\n",
    "        return int((index-1)/2)\n",
    "    \n",
    "    def getLeft(self, index):\n",
    "        return index*2+1\n",
    "    \n",
    "    def getRight(self, index):\n",
    "        return index*2+2\n",
    "    \n",
    "    def hasParent(self, index):\n",
    "        return self.getParentInd(index) >=0\n",
    "    \n",
    "    def hasLeft(self, index):\n",
    "        return self.getLeft(index) < self.size\n",
    "    \n",
    "    def hasRight(self, index):\n",
    "        return self.getRight(index) < self.size\n",
    "    \n",
    "    # use as check when adding\n",
    "    def isFull(self):\n",
    "        return self.size >= self.capacity\n",
    "       \n",
    "    # use to reheapify\n",
    "    def swap(self, indexOne, indexTwo):\n",
    "        temp = self.storage[indexOne]\n",
    "        self.storage[indexOne] = self.storage[indexTwo]\n",
    "        self.storage[indexTwo] = temp\n",
    "        \n",
    "    def insert(self, item):\n",
    "        if self.isFull():\n",
    "            print(\"Heap full\")\n",
    "        self.storage[self.size] = item\n",
    "        self.size +=1 \n",
    "        self.heapifyUp()\n",
    "        \n",
    "    def heapifyUp(self):\n",
    "        index = self.size-1\n",
    "        \n",
    "        swap(index, self.getParentInd(index))\n",
    "    \n",
    "    def peek(self):\n",
    "        if len(self.items)==0:\n",
    "            return \"Fail\"\n",
    "        return self.items[0]\n",
    "    \n",
    "#     def poll(self):\n",
    "    \n",
    "h = Heap(10)\n",
    "# h.swap(1,2)\n",
    "# h"
   ]
  },
  {
   "cell_type": "markdown",
   "id": "b9147c67",
   "metadata": {},
   "source": [
    "## Part 2 - Find kth largest element in given array"
   ]
  },
  {
   "cell_type": "code",
   "execution_count": 26,
   "id": "290bda1f",
   "metadata": {},
   "outputs": [],
   "source": [
    "# code here"
   ]
  },
  {
   "cell_type": "markdown",
   "id": "35b0e7a3",
   "metadata": {},
   "source": [
    "## Part 3 - Implement Heap Sort sorting algorithm"
   ]
  },
  {
   "cell_type": "code",
   "execution_count": 27,
   "id": "77ec0d43",
   "metadata": {},
   "outputs": [],
   "source": [
    "# code here"
   ]
  }
 ],
 "metadata": {
  "kernelspec": {
   "display_name": "Python 3",
   "language": "python",
   "name": "python3"
  },
  "language_info": {
   "codemirror_mode": {
    "name": "ipython",
    "version": 3
   },
   "file_extension": ".py",
   "mimetype": "text/x-python",
   "name": "python",
   "nbconvert_exporter": "python",
   "pygments_lexer": "ipython3",
   "version": "3.8.8"
  }
 },
 "nbformat": 4,
 "nbformat_minor": 5
}
