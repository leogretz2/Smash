{
 "cells": [
  {
   "cell_type": "markdown",
   "id": "logical-evidence",
   "metadata": {},
   "source": [
    "# Regimen I - Sets"
   ]
  },
  {
   "cell_type": "markdown",
   "id": "corporate-little",
   "metadata": {},
   "source": [
    "## Number 1"
   ]
  },
  {
   "cell_type": "markdown",
   "id": "third-retreat",
   "metadata": {},
   "source": [
    "### Part C"
   ]
  },
  {
   "cell_type": "markdown",
   "id": "eleven-employee",
   "metadata": {},
   "source": [
    "#### Add"
   ]
  },
  {
   "cell_type": "code",
   "execution_count": 4,
   "id": "parliamentary-tobago",
   "metadata": {},
   "outputs": [
    {
     "name": "stdout",
     "output_type": "stream",
     "text": [
      "{0, 1, 2, 3, 4, 5, 6}\n"
     ]
    }
   ],
   "source": [
    "set1 = set()\n",
    "for i in range(5):\n",
    "    set1.add(i)\n",
    "for i in range(1,7):\n",
    "    set1.add(i)\n",
    "print(set1)"
   ]
  },
  {
   "cell_type": "markdown",
   "id": "optimum-branch",
   "metadata": {},
   "source": [
    "#### Remove"
   ]
  },
  {
   "cell_type": "code",
   "execution_count": 5,
   "id": "saving-western",
   "metadata": {},
   "outputs": [
    {
     "name": "stdout",
     "output_type": "stream",
     "text": [
      "{0, 1, 2, 3, 4}\n",
      "{0, 1, 2, 4}\n"
     ]
    }
   ],
   "source": [
    "set2 = set()\n",
    "for i in range(5):\n",
    "    set2.add(i)\n",
    "print(set2)\n",
    "set2.remove(3)\n",
    "print(set2)"
   ]
  },
  {
   "cell_type": "markdown",
   "id": "acoustic-procedure",
   "metadata": {},
   "source": [
    "#### Find"
   ]
  },
  {
   "cell_type": "code",
   "execution_count": 6,
   "id": "middle-hygiene",
   "metadata": {},
   "outputs": [
    {
     "name": "stdout",
     "output_type": "stream",
     "text": [
      "True\n"
     ]
    }
   ],
   "source": [
    "set3 = set()\n",
    "for i in range(5):\n",
    "    set3.add(i)\n",
    "print(3 in set3)"
   ]
  },
  {
   "cell_type": "markdown",
   "id": "conservative-fisher",
   "metadata": {},
   "source": [
    "### Part D"
   ]
  },
  {
   "cell_type": "code",
   "execution_count": 34,
   "id": "hollywood-reunion",
   "metadata": {},
   "outputs": [
    {
     "name": "stdout",
     "output_type": "stream",
     "text": [
      "{3, 4, 5, 6, 7}\n",
      "The length of the set is 5 b/c take out the duplicates\n"
     ]
    }
   ],
   "source": [
    "set4 = set()\n",
    "arr = [7, 5, 4, 3, 6, 5, 3]\n",
    "\n",
    "for i in range(len(arr)):\n",
    "    set4.add(arr[i])\n",
    "print(set4)\n",
    "print(\"The length of the set is {} b/c take out the duplicates\".format(len(set4)))"
   ]
  },
  {
   "cell_type": "markdown",
   "id": "stuffed-rebel",
   "metadata": {},
   "source": [
    "### Part E"
   ]
  },
  {
   "cell_type": "code",
   "execution_count": 38,
   "id": "generic-maintenance",
   "metadata": {
    "scrolled": true
   },
   "outputs": [
    {
     "ename": "KeyError",
     "evalue": "8",
     "output_type": "error",
     "traceback": [
      "\u001b[1;31m---------------------------------------------------------------------------\u001b[0m",
      "\u001b[1;31mKeyError\u001b[0m                                  Traceback (most recent call last)",
      "\u001b[1;32m<ipython-input-38-f2c67e9ee03d>\u001b[0m in \u001b[0;36m<module>\u001b[1;34m\u001b[0m\n\u001b[0;32m      1\u001b[0m \u001b[1;32mfor\u001b[0m \u001b[0mi\u001b[0m \u001b[1;32min\u001b[0m \u001b[0mset4\u001b[0m\u001b[1;33m:\u001b[0m\u001b[1;33m\u001b[0m\u001b[1;33m\u001b[0m\u001b[0m\n\u001b[0;32m      2\u001b[0m     \u001b[0mset5\u001b[0m\u001b[1;33m.\u001b[0m\u001b[0madd\u001b[0m\u001b[1;33m(\u001b[0m\u001b[0mi\u001b[0m\u001b[1;33m)\u001b[0m\u001b[1;33m\u001b[0m\u001b[1;33m\u001b[0m\u001b[0m\n\u001b[1;32m----> 3\u001b[1;33m \u001b[0mset5\u001b[0m\u001b[1;33m.\u001b[0m\u001b[0mremove\u001b[0m\u001b[1;33m(\u001b[0m\u001b[1;36m8\u001b[0m\u001b[1;33m)\u001b[0m\u001b[1;33m\u001b[0m\u001b[1;33m\u001b[0m\u001b[0m\n\u001b[0m",
      "\u001b[1;31mKeyError\u001b[0m: 8"
     ]
    }
   ],
   "source": [
    "for i in set4:\n",
    "    set5.add(i)\n",
    "set5.remove(8)"
   ]
  },
  {
   "cell_type": "markdown",
   "id": "hollow-gender",
   "metadata": {},
   "source": [
    "#### Returns \"KeyError: 8\" b/c 8 is not an element of the set."
   ]
  },
  {
   "cell_type": "markdown",
   "id": "headed-episode",
   "metadata": {},
   "source": [
    "## Number 2"
   ]
  },
  {
   "cell_type": "code",
   "execution_count": 48,
   "id": "rubber-handbook",
   "metadata": {},
   "outputs": [],
   "source": [
    "def firstDup(li):\n",
    "    # incrementally put into buckets via set\n",
    "    # check size of bucket each time\n",
    "    # first bucket to get to two is first duplicate\n",
    "    \n",
    "    #put list into set and if already in, that's your first duplicate\n",
    "    set1 = set()\n",
    "    for i in li:\n",
    "        if(i in set1):\n",
    "            return i\n",
    "        else:\n",
    "            set1.add(i)\n",
    "    print(\"No duplicates\")"
   ]
  },
  {
   "cell_type": "markdown",
   "id": "eastern-anatomy",
   "metadata": {},
   "source": [
    "## Number 3"
   ]
  },
  {
   "cell_type": "markdown",
   "id": "turned-canada",
   "metadata": {},
   "source": [
    "### O(n) as a result of the for loop (because each iteration is O(1) - find each time and add sometimes) and it loops through the list of size n once"
   ]
  },
  {
   "cell_type": "markdown",
   "id": "proved-calibration",
   "metadata": {},
   "source": [
    "## Number 4"
   ]
  },
  {
   "cell_type": "markdown",
   "id": "abroad-rhythm",
   "metadata": {},
   "source": [
    "### Maybe ask whether what they mean by \"first duplicate\". In the example given 9 is the first duplicate because the second occurence appears before the second occurence of 5, but the first occurence of 5 is before the first occurence of 9 and depending on the definition of \"first duplicate\", this could potentially mean 5.\n",
    "\n",
    "### Discuss edge cases: How to handle when there are no duplicates/no elements in the input list?\n",
    "\n",
    "### If you want to go the sorting route, maybe ask what libraries you have access to (i.e. mergesort)"
   ]
  },
  {
   "cell_type": "markdown",
   "id": "impossible-shelf",
   "metadata": {},
   "source": [
    "# Regiment II - Sentences"
   ]
  },
  {
   "cell_type": "markdown",
   "id": "national-humanity",
   "metadata": {},
   "source": [
    "## Problem 1"
   ]
  },
  {
   "cell_type": "code",
   "execution_count": 17,
   "id": "inclusive-olympus",
   "metadata": {},
   "outputs": [
    {
     "name": "stdout",
     "output_type": "stream",
     "text": [
      "Type punctuation way:  ['bleh', 'blah', 'blue', 'fkksfkasdflkj']\n",
      "The re way:  ['bleh', 'blah', 'b', 'l', 'ue', 'fkksf', 'kasdflkj', '']\n",
      "['Hello', 'I', 'am', 'penis', 'man']\n"
     ]
    }
   ],
   "source": [
    "#1. type out all the punctuations way\n",
    "punc = '''!()-[]{};:'\"\\,<>./?@#$%^&*_~|`'''\n",
    "sentence = \"bleh, blah, /b#l?ue, 'fkksf-kasdflkj'.\"\n",
    "def sentencer(s):\n",
    "    for i in s:\n",
    "        if i in punc:\n",
    "            s = s.replace(i,'')\n",
    "\n",
    "    words = s.split()\n",
    "    return words\n",
    "print(\"Type punctuation way: \", sentencer(sentence))\n",
    "\n",
    "#2. re way with built in python library imported - probably won't remember \\W+\n",
    "import re\n",
    "print(\"The re way: \", re.split('\\W+', sentence))\n",
    "\n",
    "#3. good ol for loop way\n",
    "def sentencer2(s):\n",
    "    words2 = []\n",
    "    delimiter = 0\n",
    "    for i in range(len(s)):\n",
    "        if not s[i].isalpha() and not s[i].isnumeric():\n",
    "            words2.append(s[delimiter:i])\n",
    "            delimiter = i+1\n",
    "    for word in words2:\n",
    "        if word == '':\n",
    "            words2.remove(word)\n",
    "    return words2\n",
    "\n",
    "sentencee = \":Hello, I am; penis_ man)\"\n",
    "print(sentencer2(sentencee))\n"
   ]
  },
  {
   "cell_type": "markdown",
   "id": "numeric-green",
   "metadata": {},
   "source": [
    "## Problem 2"
   ]
  },
  {
   "cell_type": "code",
   "execution_count": 58,
   "id": "protected-forum",
   "metadata": {},
   "outputs": [],
   "source": [
    "# # helper function\n",
    "# def summerhelp(start2, end2, li, total):\n",
    "#     li = li[start2 : end2+1]\n",
    "#     summer2(li, total)\n",
    "\n",
    "# # recursive solution\n",
    "# def summer2(li, total):\n",
    "#     start, end, ans = 0, len(li)-1, []\n",
    "#     if start == end: \n",
    "#         return \"No two elements add up to total\"\n",
    "#     elif li[start]+li[end] == total:\n",
    "#         ans.extend([start,end])\n",
    "#         print(ans)\n",
    "# #         return ans\n",
    "#     elif li[start]+li[end] < total:\n",
    "# #         print(li[start+1:])\n",
    "#         start+=1\n",
    "# #         summerhelp(start+1, end, li, total)\n",
    "#         summer2(li, total)\n",
    "#     else:\n",
    "#         end-=1\n",
    "# #         summerhelp(start, end-1, li, total)\n",
    "#         summer2(li, total)\n",
    "\n",
    "# summer2([4, 6, 11, 17, 19, 22, 27], 38)\n",
    "\n",
    "def summerhelp2(start, end, li, total):\n",
    "    if li[start]+li[end] == total:\n",
    "        return list((start, end))\n",
    "    elif start == end:\n",
    "        return \"No pairs occur\"\n",
    "    elif li[start]+li[end] < total:\n",
    "        summerhelp2(start+1, end, li, total)\n",
    "    elif li[start]+li[end] > total:\n",
    "#     else:\n",
    "        summerhelp2(start, end-1, li, total)\n",
    "            \n",
    "def summer3(li, total):\n",
    "    start, end, ans = 0, len(li)-1, []\n",
    "    return summerhelp2(start, end, li, total);\n",
    "\n",
    "summer3([1,2,6],8)\n"
   ]
  },
  {
   "cell_type": "code",
   "execution_count": null,
   "id": "elegant-brunei",
   "metadata": {},
   "outputs": [],
   "source": [
    "# recursive solution\n",
    "def summer(li, total):\n",
    "    start, end, ans = 0, len(li)-1, []\n",
    "    if start == end: \n",
    "        return \"No two elements add up to total\"\n",
    "    elif li[start]+li[end] == total:\n",
    "        ans.extend([start,end])\n",
    "        print(ans)\n",
    "#         return ans\n",
    "    elif li[start]+li[end] < total:\n",
    "        print(li[start+1:])\n",
    "        summer(li[start+1:], total)\n",
    "    else:\n",
    "        summer(li[:end], total)\n",
    "        \n",
    "# print(summer([1,2,3], 5))\n",
    "# summer([1,2,3], 5)"
   ]
  },
  {
   "cell_type": "code",
   "execution_count": 84,
   "id": "overall-demonstration",
   "metadata": {},
   "outputs": [
    {
     "name": "stdout",
     "output_type": "stream",
     "text": [
      "None\n"
     ]
    }
   ],
   "source": [
    "# for loop solution (broke ass)\n",
    "def summer2(li, total):\n",
    "    start, end, ans = 0, len(li)-1, []\n",
    "    for i in range(len(li)):\n",
    "        if li[start]+li[end] == total:\n",
    "            ans.extend([start, end])\n",
    "            return ans\n",
    "        elif li[start]+li[end] < total:\n",
    "            start+=1\n",
    "        elif li[start]+li[end] > total:\n",
    "            end-=1\n",
    "        else:\n",
    "            return \"No pairs\"\n",
    "\n",
    "print(summer2(li =[4, 6, 11, 17, 19, 22, 28], total = 37))"
   ]
  },
  {
   "cell_type": "markdown",
   "id": "accurate-complaint",
   "metadata": {},
   "source": [
    "## Problem 3"
   ]
  },
  {
   "cell_type": "markdown",
   "id": "specified-holmes",
   "metadata": {},
   "source": [
    "#### Time complexity: O(n) because one for loop through the list makes O(n), each possibility within is O(1)"
   ]
  },
  {
   "cell_type": "markdown",
   "id": "referenced-wilderness",
   "metadata": {},
   "source": [
    "## Problem 4"
   ]
  },
  {
   "cell_type": "markdown",
   "id": "mental-picnic",
   "metadata": {},
   "source": [
    "#### What to do in part 1 when dash or apostrophe or something in middle of word?\n",
    "\n",
    "#### Can the indices be the same or do they have to be distinct?"
   ]
  },
  {
   "cell_type": "code",
   "execution_count": 38,
   "id": "special-disabled",
   "metadata": {},
   "outputs": [
    {
     "name": "stdout",
     "output_type": "stream",
     "text": [
      "[3, 4]\n"
     ]
    }
   ],
   "source": [
    "def func():\n",
    "    return 3,4\n",
    "\n",
    "print(list(func()))"
   ]
  },
  {
   "cell_type": "code",
   "execution_count": null,
   "id": "front-reminder",
   "metadata": {},
   "outputs": [],
   "source": []
  }
 ],
 "metadata": {
  "kernelspec": {
   "display_name": "Python 3",
   "language": "python",
   "name": "python3"
  },
  "language_info": {
   "codemirror_mode": {
    "name": "ipython",
    "version": 3
   },
   "file_extension": ".py",
   "mimetype": "text/x-python",
   "name": "python",
   "nbconvert_exporter": "python",
   "pygments_lexer": "ipython3",
   "version": "3.7.6"
  }
 },
 "nbformat": 4,
 "nbformat_minor": 5
}
