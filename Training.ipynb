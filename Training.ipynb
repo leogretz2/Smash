{
 "cells": [
  {
   "cell_type": "markdown",
   "id": "saving-chair",
   "metadata": {},
   "source": [
    "# Notes"
   ]
  },
  {
   "cell_type": "markdown",
   "id": "polish-panic",
   "metadata": {},
   "source": [
    "### Very obvious things like import math allowed***\n",
    "\n",
    "### Queue, stack and priority queue (heap) included in that^\n",
    "\n",
    "import numpy as np /n np.cbrt(27) == 3"
   ]
  },
  {
   "cell_type": "markdown",
   "id": "velvet-college",
   "metadata": {},
   "source": [
    "## Priority Queue:\n",
    "\n",
    "from queue import PriorityQueue\n",
    "\n",
    "#default minheap\n",
    "pq = PriorityQueue(initMaxSize)\n",
    "\n",
    "pq.put(el1) #time complexity of log(n)\n",
    "pq.put(el2) #time complexity of log(n)\n",
    "pg.get() -> removes and returns root heap element"
   ]
  },
  {
   "cell_type": "markdown",
   "id": "announced-controversy",
   "metadata": {},
   "source": [
    "## Strings Literals:\n",
    "\n",
    "### Python: \n",
    "\n",
    "##### BETTER: str(value)\n",
    "##### \"this is the {}\".format(value)\n",
    "\n",
    "### JS: \n",
    "\n",
    "\\`this is the ${value\\}\\`"
   ]
  },
  {
   "cell_type": "markdown",
   "id": "cooked-heavy",
   "metadata": {},
   "source": [
    "## Length of Array\n",
    "\n",
    "### Python:\n",
    "\n",
    "len(arr)\n",
    "(turn range into list -> list(range(len(arr)))\n",
    "\n",
    "### JS:\n",
    "\n",
    "arr.length"
   ]
  },
  {
   "cell_type": "markdown",
   "id": "expired-clinton",
   "metadata": {},
   "source": [
    "## Incrementation:\n",
    "\n",
    "No ++ in Python, only +=1"
   ]
  },
  {
   "cell_type": "markdown",
   "id": "stretch-requirement",
   "metadata": {},
   "source": [
    "## Ternary Operators:\n",
    "\n",
    "### Python\n",
    "\n",
    "a if condition else b\n",
    "\n",
    "### JS\n",
    "\n",
    "condition ? a : b"
   ]
  },
  {
   "cell_type": "markdown",
   "id": "pretty-lottery",
   "metadata": {},
   "source": [
    "## All Programming Languages\n",
    "\n",
    "All data structures (including arrays) passed by reference, not by value --> don't copy an array when passing"
   ]
  },
  {
   "cell_type": "markdown",
   "id": "logical-evidence",
   "metadata": {},
   "source": [
    "# Regiment I - Sets"
   ]
  },
  {
   "cell_type": "markdown",
   "id": "corporate-little",
   "metadata": {},
   "source": [
    "## Number 1"
   ]
  },
  {
   "cell_type": "markdown",
   "id": "third-retreat",
   "metadata": {},
   "source": [
    "### Part C"
   ]
  },
  {
   "cell_type": "markdown",
   "id": "eleven-employee",
   "metadata": {},
   "source": [
    "#### Add"
   ]
  },
  {
   "cell_type": "code",
   "execution_count": 4,
   "id": "parliamentary-tobago",
   "metadata": {},
   "outputs": [
    {
     "name": "stdout",
     "output_type": "stream",
     "text": [
      "{0, 1, 2, 3, 4, 5, 6}\n"
     ]
    }
   ],
   "source": [
    "set1 = set()\n",
    "for i in range(5):\n",
    "    set1.add(i)\n",
    "for i in range(1,7):\n",
    "    set1.add(i)\n",
    "print(set1)"
   ]
  },
  {
   "cell_type": "markdown",
   "id": "optimum-branch",
   "metadata": {},
   "source": [
    "#### Remove"
   ]
  },
  {
   "cell_type": "code",
   "execution_count": 5,
   "id": "saving-western",
   "metadata": {},
   "outputs": [
    {
     "name": "stdout",
     "output_type": "stream",
     "text": [
      "{0, 1, 2, 3, 4}\n",
      "{0, 1, 2, 4}\n"
     ]
    }
   ],
   "source": [
    "set2 = set()\n",
    "for i in range(5):\n",
    "    set2.add(i)\n",
    "print(set2)\n",
    "set2.remove(3)\n",
    "print(set2)"
   ]
  },
  {
   "cell_type": "markdown",
   "id": "acoustic-procedure",
   "metadata": {},
   "source": [
    "#### Find"
   ]
  },
  {
   "cell_type": "code",
   "execution_count": 6,
   "id": "middle-hygiene",
   "metadata": {},
   "outputs": [
    {
     "name": "stdout",
     "output_type": "stream",
     "text": [
      "True\n"
     ]
    }
   ],
   "source": [
    "set3 = set()\n",
    "for i in range(5):\n",
    "    set3.add(i)\n",
    "print(3 in set3)"
   ]
  },
  {
   "cell_type": "markdown",
   "id": "conservative-fisher",
   "metadata": {},
   "source": [
    "### Part D"
   ]
  },
  {
   "cell_type": "code",
   "execution_count": 34,
   "id": "hollywood-reunion",
   "metadata": {},
   "outputs": [
    {
     "name": "stdout",
     "output_type": "stream",
     "text": [
      "{3, 4, 5, 6, 7}\n",
      "The length of the set is 5 b/c take out the duplicates\n"
     ]
    }
   ],
   "source": [
    "set4 = set()\n",
    "arr = [7, 5, 4, 3, 6, 5, 3]\n",
    "\n",
    "for i in range(len(arr)):\n",
    "    set4.add(arr[i])\n",
    "print(set4)\n",
    "print(\"The length of the set is {} b/c take out the duplicates\".format(len(set4)))"
   ]
  },
  {
   "cell_type": "markdown",
   "id": "stuffed-rebel",
   "metadata": {},
   "source": [
    "### Part E"
   ]
  },
  {
   "cell_type": "code",
   "execution_count": 38,
   "id": "generic-maintenance",
   "metadata": {
    "scrolled": true
   },
   "outputs": [
    {
     "ename": "KeyError",
     "evalue": "8",
     "output_type": "error",
     "traceback": [
      "\u001b[1;31m---------------------------------------------------------------------------\u001b[0m",
      "\u001b[1;31mKeyError\u001b[0m                                  Traceback (most recent call last)",
      "\u001b[1;32m<ipython-input-38-f2c67e9ee03d>\u001b[0m in \u001b[0;36m<module>\u001b[1;34m\u001b[0m\n\u001b[0;32m      1\u001b[0m \u001b[1;32mfor\u001b[0m \u001b[0mi\u001b[0m \u001b[1;32min\u001b[0m \u001b[0mset4\u001b[0m\u001b[1;33m:\u001b[0m\u001b[1;33m\u001b[0m\u001b[1;33m\u001b[0m\u001b[0m\n\u001b[0;32m      2\u001b[0m     \u001b[0mset5\u001b[0m\u001b[1;33m.\u001b[0m\u001b[0madd\u001b[0m\u001b[1;33m(\u001b[0m\u001b[0mi\u001b[0m\u001b[1;33m)\u001b[0m\u001b[1;33m\u001b[0m\u001b[1;33m\u001b[0m\u001b[0m\n\u001b[1;32m----> 3\u001b[1;33m \u001b[0mset5\u001b[0m\u001b[1;33m.\u001b[0m\u001b[0mremove\u001b[0m\u001b[1;33m(\u001b[0m\u001b[1;36m8\u001b[0m\u001b[1;33m)\u001b[0m\u001b[1;33m\u001b[0m\u001b[1;33m\u001b[0m\u001b[0m\n\u001b[0m",
      "\u001b[1;31mKeyError\u001b[0m: 8"
     ]
    }
   ],
   "source": [
    "for i in set4:\n",
    "    set5.add(i)\n",
    "set5.remove(8)"
   ]
  },
  {
   "cell_type": "markdown",
   "id": "hollow-gender",
   "metadata": {},
   "source": [
    "#### Returns \"KeyError: 8\" b/c 8 is not an element of the set."
   ]
  },
  {
   "cell_type": "markdown",
   "id": "headed-episode",
   "metadata": {},
   "source": [
    "## Number 2"
   ]
  },
  {
   "cell_type": "code",
   "execution_count": 48,
   "id": "rubber-handbook",
   "metadata": {},
   "outputs": [],
   "source": [
    "def firstDup(li):\n",
    "    # incrementally put into buckets via set\n",
    "    # check size of bucket each time\n",
    "    # first bucket to get to two is first duplicate\n",
    "    \n",
    "    #put list into set and if already in, that's your first duplicate\n",
    "    set1 = set()\n",
    "    for i in li:\n",
    "        if(i in set1):\n",
    "            return i\n",
    "        else:\n",
    "            set1.add(i)\n",
    "    print(\"No duplicates\")"
   ]
  },
  {
   "cell_type": "markdown",
   "id": "eastern-anatomy",
   "metadata": {},
   "source": [
    "## Number 3"
   ]
  },
  {
   "cell_type": "markdown",
   "id": "turned-canada",
   "metadata": {},
   "source": [
    "### O(n) as a result of the for loop (because each iteration is O(1) - find each time and add sometimes) and it loops through the list of size n once"
   ]
  },
  {
   "cell_type": "markdown",
   "id": "proved-calibration",
   "metadata": {},
   "source": [
    "## Number 4"
   ]
  },
  {
   "cell_type": "markdown",
   "id": "abroad-rhythm",
   "metadata": {},
   "source": [
    "### Maybe ask whether what they mean by \"first duplicate\". In the example given 9 is the first duplicate because the second occurence appears before the second occurence of 5, but the first occurence of 5 is before the first occurence of 9 and depending on the definition of \"first duplicate\", this could potentially mean 5.\n",
    "\n",
    "### Discuss edge cases: How to handle when there are no duplicates/no elements in the input list?\n",
    "\n",
    "### If you want to go the sorting route, maybe ask what libraries you have access to (i.e. mergesort)"
   ]
  },
  {
   "cell_type": "markdown",
   "id": "impossible-shelf",
   "metadata": {},
   "source": [
    "# Regiment II - Sentences"
   ]
  },
  {
   "cell_type": "markdown",
   "id": "national-humanity",
   "metadata": {},
   "source": [
    "## Problem 1"
   ]
  },
  {
   "cell_type": "code",
   "execution_count": 17,
   "id": "inclusive-olympus",
   "metadata": {},
   "outputs": [
    {
     "name": "stdout",
     "output_type": "stream",
     "text": [
      "Type punctuation way:  ['bleh', 'blah', 'blue', 'fkksfkasdflkj']\n",
      "The re way:  ['bleh', 'blah', 'b', 'l', 'ue', 'fkksf', 'kasdflkj', '']\n",
      "['Hello', 'I', 'am', 'penis', 'man']\n"
     ]
    }
   ],
   "source": [
    "#1. type out all the punctuations way\n",
    "punc = '''!()-[]{};:'\"\\,<>./?@#$%^&*_~|`'''\n",
    "sentence = \"bleh, blah, /b#l?ue, 'fkksf-kasdflkj'.\"\n",
    "def sentencer(s):\n",
    "    for i in s:\n",
    "        if i in punc:\n",
    "            s = s.replace(i,'')\n",
    "\n",
    "    words = s.split()\n",
    "    return words\n",
    "print(\"Type punctuation way: \", sentencer(sentence))\n",
    "\n",
    "#2. re way with built in python library imported - probably won't remember \\W+\n",
    "import re\n",
    "print(\"The re way: \", re.split('\\W+', sentence))\n",
    "\n",
    "#3. good ol for loop way\n",
    "def sentencer2(s):\n",
    "    words2 = []\n",
    "    delimiter = 0\n",
    "    for i in range(len(s)):\n",
    "        if not s[i].isalpha() and not s[i].isnumeric():\n",
    "            words2.append(s[delimiter:i])\n",
    "            delimiter = i+1\n",
    "    for word in words2:\n",
    "        if word == '':\n",
    "            words2.remove(word)\n",
    "    return words2\n",
    "\n",
    "sentencee = \":Hello, I am; penis_ man)\"\n",
    "print(sentencer2(sentencee))\n"
   ]
  },
  {
   "cell_type": "markdown",
   "id": "numeric-green",
   "metadata": {},
   "source": [
    "## Problem 2"
   ]
  },
  {
   "cell_type": "code",
   "execution_count": 89,
   "id": "protected-forum",
   "metadata": {},
   "outputs": [
    {
     "name": "stdout",
     "output_type": "stream",
     "text": [
      "[2, 6]\n"
     ]
    }
   ],
   "source": [
    "# recursive solution with helper function\n",
    "def summerhelp2(start, end, li, total):\n",
    "    if li[start]+li[end] == total:\n",
    "        two = list((start, end))\n",
    "        print(two)\n",
    "        return two\n",
    "    elif start == end:\n",
    "        return \"No pairs occur\"\n",
    "    elif li[start]+li[end] < total:\n",
    "        summerhelp2(start+1, end, li, total)\n",
    "    elif li[start]+li[end] > total:\n",
    "#     else:\n",
    "        summerhelp2(start, end-1, li, total)\n",
    "            \n",
    "def summer3(li, total):\n",
    "    start, end, ans = 0, len(li)-1, []\n",
    "    summerhelp2(start, end, li, total)\n",
    "\n",
    "summer3([4, 6, 11, 17, 19, 22, 27], 38)"
   ]
  },
  {
   "cell_type": "code",
   "execution_count": 88,
   "id": "automated-unknown",
   "metadata": {},
   "outputs": [
    {
     "name": "stdout",
     "output_type": "stream",
     "text": [
      "[2, 6]\n"
     ]
    }
   ],
   "source": [
    "# for loop\n",
    "def summer2(li, total):\n",
    "    start, end, ans = 0, len(li)-1, []\n",
    "    for i in range(len(li)):\n",
    "        if li[start]+li[end] == total:\n",
    "            ans.extend([start, end])\n",
    "            return ans\n",
    "        elif li[start]+li[end] < total:\n",
    "            start+=1\n",
    "        elif li[start]+li[end] > total:\n",
    "            end-=1\n",
    "        else:\n",
    "            return \"No pairs\"\n",
    "\n",
    "print(summer2(li=[4,6,11,17,19,22,27], total=38))"
   ]
  },
  {
   "cell_type": "markdown",
   "id": "accurate-complaint",
   "metadata": {},
   "source": [
    "## Problem 3"
   ]
  },
  {
   "cell_type": "markdown",
   "id": "specified-holmes",
   "metadata": {},
   "source": [
    "#### Time complexity: O(n) because one for loop through the list makes O(n), each possibility within is O(1)"
   ]
  },
  {
   "cell_type": "markdown",
   "id": "referenced-wilderness",
   "metadata": {},
   "source": [
    "## Problem 4"
   ]
  },
  {
   "cell_type": "markdown",
   "id": "mental-picnic",
   "metadata": {},
   "source": [
    "#### What to do in part 1 when dash or apostrophe or something in middle of word?\n",
    "\n",
    "#### Can the indices be the same or do they have to be distinct?"
   ]
  },
  {
   "cell_type": "markdown",
   "id": "present-bumper",
   "metadata": {},
   "source": [
    "# Regiment III - Hash Tables"
   ]
  },
  {
   "cell_type": "markdown",
   "id": "compact-dynamics",
   "metadata": {},
   "source": [
    "## Problem 1"
   ]
  },
  {
   "cell_type": "markdown",
   "id": "bacterial-program",
   "metadata": {},
   "source": [
    "### a) What's a hash table?\n",
    "\n",
    "#### key/value object/table lookup\n",
    "\n",
    "### b) Special?\n",
    "\n",
    "#### Constant lookup, insert and delete if hash function is good"
   ]
  },
  {
   "cell_type": "markdown",
   "id": "living-jewel",
   "metadata": {},
   "source": [
    "### c) Implementation?"
   ]
  },
  {
   "cell_type": "code",
   "execution_count": 4,
   "id": "strategic-offering",
   "metadata": {},
   "outputs": [
    {
     "data": {
      "text/plain": [
       "{'key1': 'value1', 'key2': 'value2', 'key3': 'value3'}"
      ]
     },
     "execution_count": 4,
     "metadata": {},
     "output_type": "execute_result"
    }
   ],
   "source": [
    "# a dictionary in python is a hash table\n",
    "\n",
    "table = {'key1': 'value1', 'key2': 'value2', 'key3': 'value3'}\n",
    "table"
   ]
  },
  {
   "cell_type": "markdown",
   "id": "polar-dealer",
   "metadata": {},
   "source": [
    "## Problem 2"
   ]
  },
  {
   "cell_type": "markdown",
   "id": "sought-while",
   "metadata": {},
   "source": [
    "### Part A"
   ]
  },
  {
   "cell_type": "code",
   "execution_count": 29,
   "id": "transsexual-spanish",
   "metadata": {},
   "outputs": [
    {
     "name": "stdout",
     "output_type": "stream",
     "text": [
      "3\n"
     ]
    }
   ],
   "source": [
    "# Given a list li, find the element that occurs the most\n",
    "\n",
    "def mostfreq(li):\n",
    "    table = {}\n",
    "    \n",
    "    #make hash table\n",
    "    for i in li:\n",
    "        if ('{}'.format(i) in table):\n",
    "            table['{}'.format(i)] += 1\n",
    "        else:\n",
    "            table['{}'.format(i)] = 1\n",
    "            \n",
    "    #find most frequent (first guy if multiple max's)\n",
    "    freq = 0\n",
    "    maxi = 0\n",
    "    for i in table:\n",
    "        if table[i] > freq:\n",
    "            freq = table[i]\n",
    "            maxi = i\n",
    "    return maxi\n",
    "            \n",
    "    #find most frequent (last guy if multiple max's) - just changing > to >=\n",
    "#     freq = 0\n",
    "#     maxi = []\n",
    "#     for i in table:\n",
    "#         if table[i] >= freq:\n",
    "#             freq = table[i]\n",
    "#             maxi = i\n",
    "    \n",
    "#     return maxi\n",
    "    \n",
    "print(mostfreq([1,2,2,1,1,1,1,1,1,1,1,3,4,3,43,3,3,3,3,3,3,3,3,3,2,2,3,4,3,2]))\n"
   ]
  },
  {
   "cell_type": "code",
   "execution_count": 23,
   "id": "every-vocabulary",
   "metadata": {},
   "outputs": [
    {
     "name": "stdout",
     "output_type": "stream",
     "text": [
      "3\n"
     ]
    }
   ],
   "source": [
    "# Given a list li, find the element that occurs the most\n",
    "\n",
    "def mostfreq(li):\n",
    "    table = {}\n",
    "    \n",
    "    #make hash table\n",
    "    for i in li:\n",
    "        if ('{}'.format(i) in table):\n",
    "            table[str(i)] += 1\n",
    "        else:\n",
    "            table[str(i)] = 1\n",
    "            \n",
    "    #find most frequent (first guy if multiple max's)\n",
    "    freq = 0\n",
    "    maxi = 0\n",
    "    for i in table:\n",
    "        if table[i] > freq:\n",
    "            freq = table[i]\n",
    "            maxi = i\n",
    "    return maxi\n",
    "            \n",
    "    #find most frequent (last guy if multiple max's) - just changing > to >=\n",
    "#     freq = 0\n",
    "#     maxi = []\n",
    "#     for i in table:\n",
    "#         if table[i] >= freq:\n",
    "#             freq = table[i]\n",
    "#             maxi = i\n",
    "    \n",
    "#     return maxi\n",
    "    \n",
    "print(mostfreq([1,2,2,1,1,1,1,1,1,1,1,3,4,3,43,3,3,3,3,3,3,3,3,3,2,2,3,4,3,2]))\n"
   ]
  },
  {
   "cell_type": "markdown",
   "id": "valuable-might",
   "metadata": {},
   "source": [
    "### Part B"
   ]
  },
  {
   "cell_type": "markdown",
   "id": "musical-element",
   "metadata": {},
   "source": [
    "### Time Complexity: O(2n) -> O(n), Space Complexity: O(n)\n",
    "\n",
    "### Clarifying Questions: What if multiple numbers same frequency? Return first or last?"
   ]
  },
  {
   "cell_type": "markdown",
   "id": "amino-alexandria",
   "metadata": {},
   "source": [
    "## Problem 3"
   ]
  },
  {
   "cell_type": "markdown",
   "id": "auburn-oracle",
   "metadata": {},
   "source": [
    "### Part A"
   ]
  },
  {
   "cell_type": "code",
   "execution_count": 153,
   "id": "mental-biotechnology",
   "metadata": {},
   "outputs": [
    {
     "name": "stdout",
     "output_type": "stream",
     "text": [
      "[2, 3]\n"
     ]
    }
   ],
   "source": [
    "# One Solution\n",
    "\n",
    "def intersection(li1,li2):\n",
    "    table1 = {}\n",
    "    for i in range(len(li1)):\n",
    "        table1['{}'.format(li1[i])]=i\n",
    "    for i in range(len(li2)):\n",
    "        if '{}'.format(li2[i]) in table1:\n",
    "            print([table1['{}'.format(li2[i])], i])\n",
    "\n",
    "intersection([72,6,7,12],[11,43,4,7,1])"
   ]
  },
  {
   "cell_type": "code",
   "execution_count": 159,
   "id": "drawn-universal",
   "metadata": {},
   "outputs": [
    {
     "data": {
      "text/plain": [
       "[2, 3]"
      ]
     },
     "execution_count": 159,
     "metadata": {},
     "output_type": "execute_result"
    }
   ],
   "source": [
    "# Another solution utilizing that each intersection point only occurs once in each list\n",
    "\n",
    "def intersection2(li12,li22):\n",
    "    table, ints = {}, 0\n",
    "    li3 = li12+li22\n",
    "    #make table with freq of each # in both lists - if freq = 2, means intersection\n",
    "    for i in range(len(li3)):\n",
    "        if('{}'.format(li3[i]) in table):\n",
    "            table['{}'.format(li3[i])]+=1\n",
    "        else:\n",
    "            table['{}'.format(li3[i])]=1\n",
    "    for i in table:\n",
    "        if(table['{}'.format(i)] == 2):\n",
    "            ints = int(i)\n",
    "    ans = []\n",
    "    for i in range(len(li3)):\n",
    "        if (li3[i] == ints) and len(ans) == 0:\n",
    "            ans.append(i)\n",
    "        elif i == ints and len(ans) != 0:\n",
    "            ans.append(i-len(li12))\n",
    "    return ans\n",
    "\n",
    "intersection2([72,6,7,12],[11,43,4,7,1])"
   ]
  },
  {
   "cell_type": "code",
   "execution_count": 155,
   "id": "tender-beginning",
   "metadata": {},
   "outputs": [
    {
     "data": {
      "text/plain": [
       "{'4': [0, 2], '7': [2, 3]}"
      ]
     },
     "execution_count": 155,
     "metadata": {},
     "output_type": "execute_result"
    }
   ],
   "source": [
    "# Return list of intersections\n",
    "\n",
    "def intersectionList(li1,li2):\n",
    "    table1, ints = {}, {}\n",
    "    for i in range(len(li1)):\n",
    "        table1['{}'.format(li1[i])]=i\n",
    "#     print(table1)\n",
    "    for i in range(len(li2)):\n",
    "        if '{}'.format(li2[i]) in table1:\n",
    "            ints['{}'.format(li2[i])] = [table1['{}'.format(li2[i])], i]\n",
    "    return ints\n",
    "            \n",
    "intersectionList([4,6,7,12],[11,43,4,7,1])"
   ]
  },
  {
   "cell_type": "markdown",
   "id": "intermediate-royal",
   "metadata": {},
   "source": [
    "### Part B"
   ]
  },
  {
   "cell_type": "markdown",
   "id": "thick-breakdown",
   "metadata": {},
   "source": [
    "#### Time Complexity: O(2n) -> O(n)"
   ]
  },
  {
   "cell_type": "markdown",
   "id": "authorized-diesel",
   "metadata": {},
   "source": [
    "### Part C"
   ]
  },
  {
   "cell_type": "markdown",
   "id": "strategic-champagne",
   "metadata": {},
   "source": [
    "#### Clarifying Questions: What happens if multiple intersections?"
   ]
  },
  {
   "cell_type": "markdown",
   "id": "upper-heater",
   "metadata": {},
   "source": [
    "# Regiment IV - Hash Table cont"
   ]
  },
  {
   "cell_type": "markdown",
   "id": "negative-threat",
   "metadata": {},
   "source": [
    "## Problem 1"
   ]
  },
  {
   "cell_type": "code",
   "execution_count": 56,
   "id": "talented-intermediate",
   "metadata": {},
   "outputs": [
    {
     "data": {
      "text/plain": [
       "'doge'"
      ]
     },
     "execution_count": 56,
     "metadata": {},
     "output_type": "execute_result"
    }
   ],
   "source": [
    "# function given newAlphabet, word1 and word2 returns which word comes first\n",
    "\n",
    "def order(newAlphabet, word1, word2):\n",
    "    len1, len2 = len(word1), len(word2)\n",
    "    shorter = min(len1, len2)\n",
    "    \n",
    "    #point to shorter word        \n",
    "    shrtwd = word2 if len1>len2 else word1\n",
    "    \n",
    "    # make hash table with newAlphabet\n",
    "    alpha = {}\n",
    "    for i in range(len(newAlphabet)):\n",
    "        alpha['{}'.format(newAlphabet[i])] = i\n",
    "        \n",
    "    #loop through words comparing each letter\n",
    "    for i in range(shorter):\n",
    "        w1 = alpha[word1[i]]\n",
    "        w2 = alpha[word2[i]]\n",
    "        if(w1>w2):\n",
    "            return word2\n",
    "        elif(w2>w1):\n",
    "            return word1\n",
    "    return shrtwd\n",
    "        \n",
    "alphabet = ['a','b','c','d','e','f','g','h','i','j','k','l','m','n','o','p','q','r','s','t','u','v','w','x','y','z']\n",
    "order(alphabet, 'doge','dogem')"
   ]
  },
  {
   "cell_type": "markdown",
   "id": "suspended-trust",
   "metadata": {},
   "source": [
    "### Clarifying questions: Problem statement pretty clear - what return if same word passed, any specification required?\n",
    "\n",
    "### Time Complexity: O(n)"
   ]
  },
  {
   "cell_type": "markdown",
   "id": "hired-express",
   "metadata": {},
   "source": [
    "## Problem 2"
   ]
  },
  {
   "cell_type": "code",
   "execution_count": 7,
   "id": "durable-explorer",
   "metadata": {},
   "outputs": [
    {
     "data": {
      "text/plain": [
       "[0, 2]"
      ]
     },
     "execution_count": 7,
     "metadata": {},
     "output_type": "execute_result"
    }
   ],
   "source": [
    "# find target sum in list\n",
    "def findsum(li, target):\n",
    "    #convert list to hash table\n",
    "    table, ans = {}, []\n",
    "    \n",
    "    # make hash table of list\n",
    "    for i in range(len(li)):\n",
    "        table['{}'.format(li[i])] = i\n",
    "    \n",
    "    # go through list and check if complement with target for each element exists\n",
    "    for i in range(len(li)):\n",
    "        comp = target - li[i]\n",
    "        if '{}'.format(comp) in table:\n",
    "            #is there an easier way than doing this append shit?\n",
    "            ans.append(i)\n",
    "            if table['{}'.format(comp)] == i:\n",
    "                return \"No pairs\"\n",
    "            ans.append(table['{}'.format(comp)])\n",
    "            return ans\n",
    "    return 'No pairs'\n",
    "        \n",
    "findsum(li = [4,4,4,6,3,6,9], target = 8)"
   ]
  },
  {
   "cell_type": "markdown",
   "id": "aging-danger",
   "metadata": {},
   "source": [
    "### Time Complexity: O(n)\n",
    "\n",
    "### Clarifying Questions: What if multiple pairs/ what if one element is target - just return that guy?"
   ]
  },
  {
   "cell_type": "markdown",
   "id": "academic-liberty",
   "metadata": {},
   "source": [
    "## Problem 3"
   ]
  },
  {
   "cell_type": "code",
   "execution_count": 97,
   "id": "native-spectrum",
   "metadata": {},
   "outputs": [
    {
     "name": "stdout",
     "output_type": "stream",
     "text": [
      "{'1': [0], '2': [1, 9, 10, 11], '3': [2], '43': [3, 8], '5': [4, 6], '65': [5], '4': [7, 13, 15, 16], '23': [12], '44': [14]}\n"
     ]
    },
    {
     "data": {
      "text/plain": [
       "[[2, 4], [7, 13], [7, 15], [7, 16], [13, 15], [13, 16], [15, 16]]"
      ]
     },
     "execution_count": 97,
     "metadata": {},
     "output_type": "execute_result"
    }
   ],
   "source": [
    "# two sums problem, return list of lists I assume\n",
    "\n",
    "def findsums(li, target):\n",
    "    #convert list to hash table\n",
    "    table, ans, pair = {}, [], []\n",
    "    \n",
    "    # make hash table of list\n",
    "    for i in range(len(li)):\n",
    "        if '{}'.format(li[i]) in table:\n",
    "            table['{}'.format(li[i])].append(i)\n",
    "        else:\n",
    "            table['{}'.format(li[i])] = [i]\n",
    "            \n",
    "    # go through list and check if complement with target for each element exists\n",
    "    for i in range(len(li)):\n",
    "        comp = target - li[i]\n",
    "        if '{}'.format(comp) in table and 'marked' not in table['{}'.format(comp)]:\n",
    "            if len(table['{}'.format(comp)]) <= 2:\n",
    "                #is there an easier way than doing this append shit?\n",
    "                pair.append(i)\n",
    "                if table['{}'.format(comp)][0] != i:\n",
    "                    pair.append(table['{}'.format(comp)][0])\n",
    "                    ans.append(pair)\n",
    "                    pair = []\n",
    "                    table['{}'.format(li[i])].append('marked')\n",
    "            else:\n",
    "                # permute through list of complements\n",
    "                pairs = [[a, b] for idx, a in enumerate(table['{}'.format(comp)]) for b in table['{}'.format(comp)][idx + 1:]]\n",
    "                for pair in pairs:\n",
    "                    ans.append(pair)\n",
    "                pairs = []\n",
    "                table['{}'.format(comp)].append('marked')\n",
    "    return ans\n",
    "\n",
    "findsums([1,2,3,43,5,65,5,4,43,2,2,2,23,4,44,4,4], 8)"
   ]
  },
  {
   "cell_type": "markdown",
   "id": "retained-halloween",
   "metadata": {},
   "source": [
    "### Clarifying Questions: Should I repeat pairs (take out the marked thing)? Can a sole element be the target, or has to be paired with 0?\n",
    "\n",
    "### Time Complexity: O(n^2)"
   ]
  },
  {
   "cell_type": "markdown",
   "id": "alone-cable",
   "metadata": {},
   "source": [
    "# Regiment V - Leetcoding Begins"
   ]
  },
  {
   "cell_type": "markdown",
   "id": "better-briefs",
   "metadata": {},
   "source": [
    "## Problem 1"
   ]
  },
  {
   "cell_type": "code",
   "execution_count": 62,
   "id": "certain-binary",
   "metadata": {},
   "outputs": [],
   "source": [
    "def checkNeighbors(grid, i, j):\n",
    "    grid[i][j] = '2';\n",
    "    if i<(len(grid)-1) and grid[i+1][j] == '1':\n",
    "        checkNeighbors(grid, i+1, j)\n",
    "    if i>0 and grid[i-1][j] == '1':\n",
    "        checkNeighbors(grid, i-1, j)\n",
    "    if j<(len(grid[i])-1) and grid[i][j+1] == '1':\n",
    "            checkNeighbors(grid, i, j+1)\n",
    "    if j>0 and grid[i][j-1] == '1':\n",
    "            checkNeighbors(grid, i, j-1)\n",
    "    else:\n",
    "        return 0\n",
    "        \n",
    "            \n",
    "def numIslands(grid):\n",
    "        \"\"\"\n",
    "        :type grid: List[List[str]]\n",
    "        :rtype: int\n",
    "        \"\"\"\n",
    "        num = 0\n",
    "#         checkNeighbors(grid, 0, 0)\n",
    "        for i in range(len(grid)):\n",
    "            for j in range(len(grid[i])):\n",
    "                if grid[i][j] == '1':\n",
    "                    num+=1\n",
    "                    checkNeighbors(grid, i, j)\n",
    "        return num"
   ]
  },
  {
   "cell_type": "code",
   "execution_count": 63,
   "id": "empirical-lindsay",
   "metadata": {
    "scrolled": true
   },
   "outputs": [
    {
     "data": {
      "text/plain": [
       "6"
      ]
     },
     "execution_count": 63,
     "metadata": {},
     "output_type": "execute_result"
    }
   ],
   "source": [
    "grid = [\n",
    "  [\"1\",\"1\",\"1\",\"1\",\"0\"],\n",
    "  [\"1\",\"1\",\"0\",\"1\",\"1\"],\n",
    "  [\"1\",\"1\",\"0\",\"0\",\"1\"],\n",
    "  [\"0\",\"0\",\"1\",\"0\",\"1\"]\n",
    "]\n",
    "\n",
    "grid2 = [\n",
    "    ['1','1','0'],\n",
    "    ['1','0','1'],\n",
    "    ['0','0','0']\n",
    "]\n",
    "\n",
    "grid3 = [\n",
    "    ['1','0','0'],\n",
    "    ['0','0','0'],\n",
    "    ['0','0','0']\n",
    "]\n",
    "\n",
    "grid4 = [\n",
    "  [\"1\",\"1\",\"0\",\"0\",\"0\"],\n",
    "  [\"1\",\"1\",\"0\",\"0\",\"0\"],\n",
    "  [\"0\",\"0\",\"1\",\"0\",\"0\"],\n",
    "  [\"0\",\"0\",\"0\",\"1\",\"1\"]\n",
    "]\n",
    "\n",
    "grid5 = [\n",
    "  [\"1\",\"1\",\"0\",\"0\",\"1\"],\n",
    "  [\"1\",\"1\",\"0\",\"1\",\"0\"],\n",
    "  [\"0\",\"0\",\"1\",\"0\",\"1\"],\n",
    "  [\"1\",\"1\",\"0\",\"1\",\"1\"]\n",
    "]\n",
    "\n",
    "numIslands(grid5)"
   ]
  },
  {
   "cell_type": "markdown",
   "id": "industrial-jersey",
   "metadata": {},
   "source": [
    "Clarifying Question: Maybe is diagonally adjacent 1 part of island?\n",
    "\n",
    "Time Complexity: O(m*n) -> O(n) as loop through 2D array once."
   ]
  },
  {
   "cell_type": "markdown",
   "id": "altered-cisco",
   "metadata": {},
   "source": [
    "## Problem 2"
   ]
  },
  {
   "cell_type": "markdown",
   "id": "accredited-doubt",
   "metadata": {},
   "source": [
    "Optional Retarded Functions:"
   ]
  },
  {
   "cell_type": "code",
   "execution_count": 4,
   "id": "offensive-eating",
   "metadata": {},
   "outputs": [],
   "source": [
    "def resultCalc(nums, div):\n",
    "    result = 0\n",
    "    newguy = []\n",
    "    for i in range(len(nums)):\n",
    "        newguy.append(ceil(nums[i]/div))\n",
    "        result += newguy[i]\n",
    "    return result\n",
    "\n",
    "def smallestDivisor2(nums, threshold):\n",
    "    summ = 0\n",
    "    for i in nums:\n",
    "        summ+=i\n",
    "    if summ <threshold:\n",
    "        return 1\n",
    "    \n",
    "    # create array of possible values\n",
    "    poss = list(range(1,threshold+1))\n",
    "    \n",
    "    # binary search array of possible values\n",
    "    return smallDivHelp(nums, threshold, poss)"
   ]
  },
  {
   "cell_type": "code",
   "execution_count": 5,
   "id": "portable-questionnaire",
   "metadata": {},
   "outputs": [
    {
     "data": {
      "text/plain": [
       "5"
      ]
     },
     "execution_count": 5,
     "metadata": {},
     "output_type": "execute_result"
    }
   ],
   "source": [
    "def ceil(num):\n",
    "    return int(num)+1 if int(num) != num else int(num)\n",
    "\n",
    "def resultCalc2(nums, div):\n",
    "    result = 0\n",
    "    for i in range(len(nums)):\n",
    "        result += ceil(nums[i]/div)\n",
    "    return result\n",
    "\n",
    "def smallDivHelp(nums, threshold, poss):\n",
    "    if len(poss) == 1:\n",
    "        return poss[0]\n",
    "    \n",
    "    #current middle\n",
    "    loc = int(len(poss)/2)\n",
    "    opt_div = poss[loc]\n",
    "    \n",
    "    #calculate corresponding result\n",
    "    result1 = resultCalc2(nums, opt_div)\n",
    "    \n",
    "    # gets stuck when possibilities is length 2 -> unless the first index produces the same result as the second,\n",
    "    # it's the second index\n",
    "    if len(poss) == 2:\n",
    "        if resultCalc2(nums, poss[0]) > threshold:\n",
    "            return poss[1]\n",
    "        else:\n",
    "            return poss[0]\n",
    "    \n",
    "    # if result is greater than threshold, try larger divisor in second half of possibilities array\n",
    "    if result1>threshold: \n",
    "        opt_div = smallDivHelp(nums, threshold, poss[loc:])\n",
    "        \n",
    "    # if result is smaller than threshold, try smaller divisor in second half of possibilities array\n",
    "    if result1<threshold:\n",
    "        opt_div = smallDivHelp(nums, threshold, poss[:loc+1])\n",
    "    return opt_div\n",
    "\n",
    "# min number is 1, max number is threshold - do binary search between\n",
    "def smallestDivisor(nums, threshold):\n",
    "    \n",
    "    # create array of possible values\n",
    "    poss = list(range(1,threshold+1))\n",
    "    \n",
    "    # binary search array of possible values\n",
    "    return smallDivHelp(nums, threshold, poss)\n",
    "\n",
    "\n",
    "# smallestDivisor([1,2,5,9], 6)\n",
    "# smallestDivisor([2,3,5,7,11],11)\n",
    "# smallestDivisor([21212,10101,12121],1000000)\n",
    "smallestDivisor([5,5,5,5,5,5],10)\n",
    "# resultCalc([1,2,5,9],4)"
   ]
  },
  {
   "cell_type": "markdown",
   "id": "greatest-jamaica",
   "metadata": {},
   "source": [
    "Clarifying Question: Is import math allowed? Yes\n",
    "\n",
    "Time Complexity: O(n) b/c of resultCalc, otherwise O(logn)"
   ]
  },
  {
   "cell_type": "markdown",
   "id": "running-astrology",
   "metadata": {},
   "source": [
    "# Regiment V.V\n",
    "\n",
    "## Problem 1 - Implement a Stack"
   ]
  },
  {
   "cell_type": "code",
   "execution_count": 4,
   "id": "voluntary-walker",
   "metadata": {},
   "outputs": [
    {
     "data": {
      "text/plain": [
       "'fff'"
      ]
     },
     "execution_count": 4,
     "metadata": {},
     "output_type": "execute_result"
    }
   ],
   "source": [
    "# just make it an array\n",
    "\n",
    "class Stack:\n",
    "    \n",
    "    def __init__(self):\n",
    "        self.items = []\n",
    "        \n",
    "    def isEmpty(self):\n",
    "        return len(self.items)==0\n",
    "        \n",
    "    def push(self, item):\n",
    "        return self.items.append(item);\n",
    "\n",
    "    def pop(self):\n",
    "        if len(self.items) > 0:\n",
    "            popper = self.items[-1]\n",
    "            self.items = self.items[:-1]\n",
    "            return popper \n",
    "        else:\n",
    "            print(\"Can't pop, stack empty\")\n",
    "            return self.items\n",
    "    \n",
    "    def peek(self):\n",
    "        if len(self.items) > 0:\n",
    "            return self.items[-1]\n",
    "        else:\n",
    "            print(\"Stack empty\")\n",
    "            return\n",
    "\n",
    "s = Stack()\n",
    "\n",
    "s.push('sdf')\n",
    "s.push('fff')\n",
    "s.push('asdf')\n",
    "s.pop()\n",
    "s.peek()"
   ]
  },
  {
   "cell_type": "markdown",
   "id": "adjusted-encounter",
   "metadata": {},
   "source": [
    "## Problem 2 - Implement a Queue"
   ]
  },
  {
   "cell_type": "code",
   "execution_count": 8,
   "id": "fifty-buffer",
   "metadata": {},
   "outputs": [
    {
     "name": "stdout",
     "output_type": "stream",
     "text": [
      "adsf\n",
      "addddf\n"
     ]
    },
    {
     "data": {
      "text/plain": [
       "2"
      ]
     },
     "execution_count": 8,
     "metadata": {},
     "output_type": "execute_result"
    }
   ],
   "source": [
    "class Queue:\n",
    "    def __init__(self):\n",
    "        self.items = []\n",
    "        \n",
    "    def enqueue(self, item):\n",
    "        return self.items.insert(0, item)\n",
    "        \n",
    "    def dequeue(self):\n",
    "        popper = self.items[-1]\n",
    "        self.items = self.items[:-1]\n",
    "        return popper\n",
    "        \n",
    "    def size(self):\n",
    "        return len(self.items)\n",
    "    \n",
    "    def peek(self):\n",
    "        return self.items[-1]\n",
    "    \n",
    "q = Queue()\n",
    "q.enqueue('adsf')\n",
    "q.enqueue('addddf')\n",
    "q.enqueue('adsfff')\n",
    "print(q.peek())\n",
    "q.dequeue()\n",
    "print(q.peek())\n",
    "q.size()"
   ]
  },
  {
   "cell_type": "markdown",
   "id": "cubic-victoria",
   "metadata": {},
   "source": [
    "# Regiment VI - Heap"
   ]
  },
  {
   "cell_type": "markdown",
   "id": "invisible-rebate",
   "metadata": {},
   "source": [
    "## Problem 1 - Research and Implement a heap"
   ]
  },
  {
   "cell_type": "code",
   "execution_count": 22,
   "id": "furnished-habitat",
   "metadata": {},
   "outputs": [
    {
     "data": {
      "text/plain": [
       "5"
      ]
     },
     "execution_count": 22,
     "metadata": {},
     "output_type": "execute_result"
    }
   ],
   "source": [
    "# write shit learned here\n",
    "\n",
    "# Heap is a tree structure --> either max-heap (largest element is at root, recursively) or min-heap (smallest element is at root, recursively)\n",
    "\n",
    "# Insertion at the bottom of the tree left to right, compare with parent and bubble up until in correct position\n",
    "\n",
    "# If delete root node, put last added node at root and bubble down to next open spot (first one can get to with no children)\n",
    "\n",
    "# Each node is filled so can be stored in an array with a simple equation for index. \n",
    "# - call index = ind, parent = (ind - 1)/2, left child = ind*2+1, right child = ind*2+2\n",
    "\n",
    "class MinHeap:\n",
    "    def __init__(self, capacity):\n",
    "        self.storage = [0]*capacity\n",
    "        self.capacity = capacity\n",
    "        self.size = 0\n",
    "        \n",
    "    def getParentInd(self, index):\n",
    "        return int((index-1)/2)\n",
    "            \n",
    "    def getLeftInd(self, index):\n",
    "        return 2*index + 1\n",
    "            \n",
    "    def getRightInd(self, index):\n",
    "        return 2 * index + 2\n",
    "    \n",
    "    def hasParent(self, index):\n",
    "        return self.getParent(index) >= 0\n",
    "    \n",
    "    def hasLeft(self, index):\n",
    "        return self.getLeft(index) < self.size\n",
    "    \n",
    "    def hasRight(self, index):\n",
    "        return self.getRight(index) < self.size\n",
    "    \n",
    "    def getParent(self, index):\n",
    "        return self.storage[self.getParentInd(index)]\n",
    "    \n",
    "    def getLeft(self, index):\n",
    "        return self.storage[self.getLeftInd(index)]\n",
    "    \n",
    "    def getRight(self, index):\n",
    "        return self.storage[self.getRightInd(index)]\n",
    "    \n",
    "    def isFull(self):\n",
    "        return self.size >= self.capacity\n",
    "    \n",
    "    # use to reheapify\n",
    "    def swap(self, indexOne, indexTwo):\n",
    "        temp = self.storage[indexOne]\n",
    "        self.storage[indexOne] = self.storage[indexTwo]\n",
    "        self.storage[indexTwo] = temp\n",
    "        \n",
    "    def insert(self, item):\n",
    "        if self.isFull():\n",
    "            print(\"Heap full\")\n",
    "            return;\n",
    "        self.storage[self.size] = item\n",
    "        self.size +=1 \n",
    "        self.heapifyUp(self.size-1)\n",
    "    \n",
    "    def heapifyUp(self, index):\n",
    "        if self.hasParent(index) and self.getParent(index) > self.storage[index]:\n",
    "            self.swap(self.getParent(index), index)\n",
    "            self.heapifyUp(self.getParent(index))\n",
    "            \n",
    "    def heapifyDown(self, index):\n",
    "        smallest = index\n",
    "        if self.hasLeft(index) and self.storage[smallest] > self.getLeft(index):\n",
    "            smallest = self.getLeftInd(index)\n",
    "        if self.hasRight(index) and self.storage[smallest] > self.getRight(index):\n",
    "            smallest = self.getRightInd(index)\n",
    "        if smallest != index:\n",
    "            self.swap(index, smallest)\n",
    "            self.heapifyDown(smallest)\n",
    "            \n",
    "    def removeMin(self):\n",
    "        if self.size == 0:\n",
    "            raise(\"Heap Empty\")\n",
    "        data = self.storage[0]\n",
    "        self.storage[0] = self.storage[self.size-1]\n",
    "        self.size-=1\n",
    "        self.heapifyDown(0)\n",
    "        return data    \n",
    "        \n",
    "    \n",
    "mh = MinHeap(7)\n",
    "arr = [0,5,10,20,8,15,30]\n",
    "for i in arr:\n",
    "    mh.insert(i)\n",
    "    \n",
    "mh.removeMin()\n",
    "mh.removeMin()"
   ]
  },
  {
   "cell_type": "markdown",
   "id": "enhanced-samoa",
   "metadata": {},
   "source": [
    "\n",
    "## Problem 2 - kth largest element"
   ]
  },
  {
   "cell_type": "code",
   "execution_count": null,
   "id": "dramatic-edinburgh",
   "metadata": {},
   "outputs": [],
   "source": [
    "from queue import PriorityQueue\n",
    "\n",
    "# given an array, return the kth largest element\n",
    "\n",
    "# O(nlogn) sol\n",
    "def kth1(arr, k):\n",
    "    pq = PriorityQueue(len(arr))\n",
    "    mini = 0\n",
    "    minimum = float('inf')\n",
    "    # array put into minheap, O(nlogn) worst case\n",
    "    for i in arr:\n",
    "        pq.put(i)\n",
    "        \n",
    "    # remove root (min) element k times, because heapifyUp after each removal is less time\n",
    "    for i in range(k):\n",
    "        mini = pq.get()\n",
    "    return mini\n",
    "    \n",
    "kth1([1,2,0,3,3,4],3)\n",
    "\n",
    "\n",
    "# O(nlogk) average case - fail sol with maxheap\n",
    "def kth2(arr, k):\n",
    "    pq = PriorityQueue(k)\n",
    "    pq.put(-arr[0])\n",
    "    \n",
    "    # keep track of the max of the priority queue\n",
    "    maxi = float('-inf')\n",
    "    \n",
    "    # since minheap default, do maxheap with negatives\n",
    "    for i in range(1,len(arr)):\n",
    "        if not pq.full():\n",
    "            pq.put(-arr[i])\n",
    "            if maxi < arr[i]:\n",
    "                maxi = arr[i]\n",
    "        else:\n",
    "            if arr[i] < maxi:\n",
    "                pq.get()\n",
    "                pq.put(-arr[i])\n",
    "                if maxi < arr[i]:\n",
    "                    maxi = arr[i]\n",
    "\n",
    "    return -pq.get()\n",
    "\n",
    "def kth3(arr, k):\n",
    "    count = 0\n",
    "    got = 0\n",
    "    pq = PriorityQueue(k)\n",
    "    \n",
    "    for i in arr:\n",
    "        if not pq.full():\n",
    "            pq.put(i)\n",
    "        else:\n",
    "            got = pq.get()\n",
    "            count += 1\n",
    "            if count == k:\n",
    "                return got\n",
    "            pq.put(i)\n",
    "    for i in range(k-count):\n",
    "        got = pq.get()\n",
    "    return got\n",
    "        "
   ]
  },
  {
   "cell_type": "code",
   "execution_count": 6,
   "id": "comparative-grave",
   "metadata": {},
   "outputs": [
    {
     "name": "stdout",
     "output_type": "stream",
     "text": [
      "0\n",
      "1\n",
      "2\n",
      "2\n",
      "2\n"
     ]
    },
    {
     "data": {
      "text/plain": [
       "3"
      ]
     },
     "execution_count": 6,
     "metadata": {},
     "output_type": "execute_result"
    }
   ],
   "source": [
    "from queue import PriorityQueue\n",
    "\n",
    "def kthsmash(arr, k):\n",
    "    pq = PriorityQueue(k+1)\n",
    "    size = 0\n",
    "    count = 0\n",
    "    p = 0\n",
    "    guys = []\n",
    "#     print(size)\n",
    "    \n",
    "    for i in arr:\n",
    "        print(pq.qsize())\n",
    "#         if not pq.full():\n",
    "        if pq.qsize() < k:\n",
    "            pq.put(i)\n",
    "        else:\n",
    "            pq.put(i)\n",
    "#             p = pq.get()\n",
    "            guys.append(pg.get())\n",
    "#             count += 1\n",
    "#             pq.put(i)\n",
    "#         print(pq.qsize())\n",
    "# #         size+=1\n",
    "#         if size>k:\n",
    "#             pq.get()\n",
    "# #             size-=1\n",
    "    return pq.get()\n",
    "\n",
    "    \n",
    "kthsmash([1,2,0,3,3],2)\n",
    "# kthsmash([5,3,6,12,4],2)\n",
    "# kthsmash([1,2,0,3,3],2)"
   ]
  },
  {
   "cell_type": "code",
   "execution_count": 43,
   "id": "sublime-packet",
   "metadata": {},
   "outputs": [
    {
     "data": {
      "text/plain": [
       "1"
      ]
     },
     "execution_count": 43,
     "metadata": {},
     "output_type": "execute_result"
    }
   ],
   "source": [
    "\n",
    "from queue import PriorityQueue\n",
    "\n",
    "# pretty sure multiple of O(nlogk), but pretty sure multiple of O(nklogk) -> fail\n",
    "def kth5(arr, k):\n",
    "    pq = PriorityQueue(k)\n",
    "    p = 0\n",
    "    maxi = 0\n",
    "    kth = 0\n",
    "    mins = set()\n",
    "    for i in arr: # O(n)\n",
    "        s = pq.qsize() # O(k)\n",
    "        if s < k:\n",
    "            pq.put(i) # O(logk)\n",
    "        else:\n",
    "            p = pq.get() # O(logk)\n",
    "            pq.put(i) #O(logk)\n",
    "            if len(mins) < k: #O(1)\n",
    "                mins.add(p) # O(1)\n",
    "                maxi = max(mins) # O(k)\n",
    "            elif len(mins) == k and p < maxi: #O(1)\n",
    "                mins.remove(maxi) #O(1)\n",
    "                mins.add(p) #O(1)\n",
    "                maxi = max(mins) #O(k)\n",
    "        \n",
    "    p = pq.get() # O(logk)\n",
    "    if len(mins) < k: # O(1)\n",
    "        mins.add(p)\n",
    "    elif len(mins) == k and p < maxi: #O(1)\n",
    "        mins.remove(maxi) # O(1)\n",
    "        mins.add(p) # O(1)\n",
    "    kth = max(mins) # O(n)\n",
    "        \n",
    "    return kth\n",
    "\n",
    "        \n",
    "kth5([1,2,0,3,3],2)\n",
    "# kth5([5,6,3,12,4],2)\n",
    "# kth5([1,2,3,4,3,2,1],2)"
   ]
  },
  {
   "cell_type": "markdown",
   "id": "proof-works",
   "metadata": {},
   "source": [
    "Time Complexity: O(nlogk) because each removal lessens amount heapifyUp()\n",
    "    \n",
    "Clarifying Question: Can I import PriorityQueue library? Can assume nonnegative?"
   ]
  },
  {
   "cell_type": "markdown",
   "id": "excessive-hardwood",
   "metadata": {},
   "source": [
    "## Problem 3 - Heap Sort"
   ]
  },
  {
   "cell_type": "code",
   "execution_count": 36,
   "id": "resident-albert",
   "metadata": {},
   "outputs": [
    {
     "data": {
      "text/plain": [
       "[2,\n",
       " 2,\n",
       " 2,\n",
       " 2,\n",
       " 2,\n",
       " 3,\n",
       " 3,\n",
       " 3,\n",
       " 3,\n",
       " 4,\n",
       " 4,\n",
       " 4,\n",
       " 4,\n",
       " 5,\n",
       " 5,\n",
       " 5,\n",
       " 6,\n",
       " 7,\n",
       " 9,\n",
       " 22,\n",
       " 36,\n",
       " 43,\n",
       " 45,\n",
       " 56,\n",
       " 346,\n",
       " 2456]"
      ]
     },
     "execution_count": 36,
     "metadata": {},
     "output_type": "execute_result"
    }
   ],
   "source": [
    "from queue import PriorityQueue\n",
    "\n",
    "# heap sort given an array\n",
    "\n",
    "def heapsort(arr):\n",
    "    pq = PriorityQueue(len(arr))\n",
    "    output = []\n",
    "    \n",
    "    # add all elems to priority queue -> O(n)\n",
    "    for i in arr:\n",
    "        pq.put(i)\n",
    "        \n",
    "    # remove each min from heap and add to output array -> O(nlogn)\n",
    "    for i in range(len(arr)):\n",
    "        output.append(pq.get())\n",
    "        \n",
    "    return output\n",
    "\n",
    "heapsort([5,4,3,2,9,3])\n",
    "heapsort([5,4,3,2,9,36,4,3,2,5,346,2456,7,45,43,3,22,2,5,56,2,4,6,4,3,2])"
   ]
  },
  {
   "cell_type": "markdown",
   "id": "functional-immigration",
   "metadata": {},
   "source": [
    "Time Complexity: O(nlogn). Adding to heap is O(n), removing the min n times is n*logn in worst case scenario.\n",
    "\n",
    "Clarifying Question: Can use external library?"
   ]
  },
  {
   "cell_type": "markdown",
   "id": "arctic-defendant",
   "metadata": {},
   "source": [
    "# Regiment VI.V"
   ]
  },
  {
   "cell_type": "markdown",
   "id": "usual-merit",
   "metadata": {},
   "source": [
    "Return list of ideal numbers between high and low. Ideal number is number that can be factored by 3 and 5 alone."
   ]
  },
  {
   "cell_type": "code",
   "execution_count": 142,
   "id": "quiet-storm",
   "metadata": {},
   "outputs": [],
   "source": [
    "import numpy as np\n",
    "\n",
    "# crap solution\n",
    "\n",
    "def checkIdeal(num):\n",
    "    if num == 0:\n",
    "        num = 1\n",
    "    updated = num\n",
    "    while updated != 1:\n",
    "        if updated%3==0:\n",
    "            updated /=3\n",
    "        elif updated%5==0:\n",
    "            updated /=5\n",
    "        else:\n",
    "            return False\n",
    "    return True\n",
    "\n",
    "def ideals(low, high):\n",
    "    if high < low:\n",
    "        return \"high must be higher than low\"\n",
    "    ideals = []\n",
    "    if low <= 1:\n",
    "        ideals.append(1)\n",
    "    for i in range(low, high + 1):\n",
    "        if checkIdeal(i) and i != 1:\n",
    "            ideals.append(i)\n",
    "    return ideals"
   ]
  },
  {
   "cell_type": "code",
   "execution_count": 147,
   "id": "boxed-expression",
   "metadata": {},
   "outputs": [
    {
     "data": {
      "text/plain": [
       "{125, 135, 225, 243, 375, 405, 625, 675}"
      ]
     },
     "execution_count": 147,
     "metadata": {},
     "output_type": "execute_result"
    }
   ],
   "source": [
    "# slightly better solution\n",
    "\n",
    "def power(pos, num, base):\n",
    "    if pos == 'low':\n",
    "        return math.ceil(math.log(num)/math.log(base))\n",
    "    elif pos == 'high':\n",
    "        return math.floor(math.log(num)/math.log(base))\n",
    "\n",
    "\n",
    "# add pure 3's and loop through the whole thing by 5\n",
    "def ideals2(low, high):\n",
    "    ideals, newlow = set(), low - low%10\n",
    "    first3 = power('low', low, 3)\n",
    "    last3 = power('high', high, 3)\n",
    "    if first3 <= last3:\n",
    "        for i in range(first3, last3+1):\n",
    "            ideals.add(3**i)\n",
    "    for j in range(newlow, high+1,5): # O(n)\n",
    "        if checkIdeal(j): # O(1)\n",
    "            ideals.add(j) # O(1)\n",
    "    \n",
    "    # remove 0 if present\n",
    "    if 0 in ideals:\n",
    "        ideals.remove(0)\n",
    "    return ideals\n",
    "\n",
    "ideals2(82,700)\n",
    "# checkIdeal(6)\n",
    "# isPowerOf(728,3)\n",
    "# firstGuy('low',100,3)\n",
    "\n",
    "# # add pure 3's\n",
    "#     if first3 <= last3:\n",
    "#         for i in range(first3,last3+1):\n",
    "#             ideals.add(3**i)\n",
    "        \n",
    "#     # add pure 5's\n",
    "#     if first5 <= last5:\n",
    "#         for i in range(first5, last5+1):\n",
    "#             ideals.add(5**i)"
   ]
  },
  {
   "cell_type": "markdown",
   "id": "indoor-visiting",
   "metadata": {},
   "source": [
    "Time Complexity: O(n)\n",
    "\n",
    "Clarifying Questions: is range inclusive? does ideals array have to be in order?"
   ]
  },
  {
   "cell_type": "code",
   "execution_count": 21,
   "id": "agreed-processor",
   "metadata": {},
   "outputs": [
    {
     "data": {
      "text/plain": [
       "{9, 15, 25, 27, 45, 75, 81}"
      ]
     },
     "execution_count": 21,
     "metadata": {},
     "output_type": "execute_result"
    }
   ],
   "source": [
    "# DP sol, start with 1,3,5 and divide each new one by 3 or 5 and if in already, it's ideal\n",
    "\n",
    "def ideals3(low, high):\n",
    "    ideals = set()\n",
    "    arr = [1,3,5]\n",
    "    for j in arr:\n",
    "        ideals.add(j)\n",
    "    \n",
    "    for i in range(1, high+1): # O(n)\n",
    "        if i/3 in ideals:\n",
    "            ideals.add(i)\n",
    "        elif i/5 in ideals:\n",
    "            ideals.add(i)\n",
    "    \n",
    "    goodideals = set()\n",
    "    for k in ideals:\n",
    "        if k >= low:\n",
    "            goodideals.add(k)\n",
    "    return goodideals\n",
    "        \n",
    "ideals3(9,100)"
   ]
  },
  {
   "cell_type": "markdown",
   "id": "micro-enzyme",
   "metadata": {},
   "source": [
    "Time Complexity: O(n)\n",
    "\n",
    "Clarifying Questions: is range inclusive? does ideals array have to be in order?"
   ]
  },
  {
   "cell_type": "markdown",
   "id": "affected-invite",
   "metadata": {},
   "source": [
    "# Regiment VI.LXXV"
   ]
  },
  {
   "cell_type": "markdown",
   "id": "phantom-badge",
   "metadata": {},
   "source": [
    "## Problem 1"
   ]
  },
  {
   "cell_type": "markdown",
   "id": "bound-april",
   "metadata": {},
   "source": [
    "Validating parantheses"
   ]
  },
  {
   "cell_type": "code",
   "execution_count": 3,
   "id": "mobile-robinson",
   "metadata": {},
   "outputs": [
    {
     "data": {
      "text/plain": [
       "True"
      ]
     },
     "execution_count": 3,
     "metadata": {},
     "output_type": "execute_result"
    }
   ],
   "source": [
    "# only parantheses\n",
    "\n",
    "def paranvalid(input):\n",
    "    count = 0\n",
    "\n",
    "    for i in input:\n",
    "        if i == '(':\n",
    "            count += 1\n",
    "        elif i == ')':\n",
    "            count -= 1\n",
    "        if count < 0:\n",
    "            return False\n",
    "    if count == 0:\n",
    "        return True\n",
    "    return False\n",
    "\n",
    "paranvalid('(((()()))()())')"
   ]
  },
  {
   "cell_type": "code",
   "execution_count": 17,
   "id": "initial-jamaica",
   "metadata": {},
   "outputs": [],
   "source": [
    "# with parantheses, brackets and curly brackets\n",
    "\n",
    "def paranvalidComp(input):\n",
    "    # parans\n",
    "    countp = 0\n",
    "    \n",
    "    # curly brackets\n",
    "    countc = 0\n",
    "    \n",
    "    #brackets\n",
    "    countb = 0\n",
    "    \n",
    "    lastparan = []\n",
    "    for i in input:\n",
    "        if i == '(':\n",
    "            countp += 1\n",
    "            lastparan.append('(')\n",
    "        elif i == '[':\n",
    "            countb += 1\n",
    "            lastparan.append('[')\n",
    "        elif i == '{':\n",
    "            countc += 1\n",
    "            lastparan.append('{')\n",
    "        elif i == ')':\n",
    "            if lastparan[-1] == '(':\n",
    "                countp -= 1\n",
    "                lastparan.pop()\n",
    "            else:\n",
    "                return False\n",
    "        elif i == ']':\n",
    "            if lastparan[-1] == '[':\n",
    "                countb -= 1\n",
    "                lastparan.pop()\n",
    "            else:\n",
    "                return False\n",
    "        elif i == '}':\n",
    "            if lastparan[-1] == '{':\n",
    "                countc -= 1\n",
    "                lastparan.pop()\n",
    "            else:\n",
    "                return False\n",
    "            \n",
    "        if countp < 0 or countc < 0 or countb < 0:\n",
    "            return False\n",
    "        \n",
    "    if countp == 0 and countb == 0 and countc == 0:\n",
    "        return True\n",
    "    return False\n",
    "\n",
    "assert(paranvalidComp('()') == True)\n",
    "assert(paranvalidComp('()[]{}') == True)\n",
    "assert(paranvalidComp('(]') == False)\n",
    "assert(paranvalidComp('([)]') == False)\n",
    "assert(paranvalidComp('{[]}') == True)"
   ]
  },
  {
   "cell_type": "markdown",
   "id": "lined-assist",
   "metadata": {},
   "source": [
    "Time Complexity: O(n)\n",
    "Space Complexity: O(2n) -> O(n)\n",
    "\n",
    "Clarifying Question: All types of paranthese or just ()? What are rules about ordering?"
   ]
  },
  {
   "cell_type": "markdown",
   "id": "cellular-october",
   "metadata": {},
   "source": [
    "## Problem 2"
   ]
  },
  {
   "cell_type": "markdown",
   "id": "molecular-chest",
   "metadata": {},
   "source": [
    "Check Python format shit in hash-map (set is a hash-map but only one thing, no key and value)"
   ]
  },
  {
   "cell_type": "code",
   "execution_count": 30,
   "id": "advised-recall",
   "metadata": {},
   "outputs": [
    {
     "name": "stdout",
     "output_type": "stream",
     "text": [
      "{'1': 'key1', '3': 'key2', '8': 'key3', '2': 'key4', '5': 'key5', '6': 'key6'}\n",
      "retarded format shit\n",
      "key1\n",
      "key2\n",
      "key3\n",
      "key4\n",
      "key5\n",
      "key6\n",
      "\n",
      "BETTER:\n",
      "key1\n",
      "key2\n",
      "key3\n",
      "key4\n",
      "key5\n",
      "key6\n"
     ]
    }
   ],
   "source": [
    "# set is object\n",
    "\n",
    "hashguy = {}\n",
    "\n",
    "hashguy = {'val1':'key1', 'val2':'key2', 'val3':'key3', 'val4':'key4', 'val5':'key5', 'val6':'key6'}\n",
    "\n",
    "one = 'val1'\n",
    "\n",
    "print('retarded format shit')\n",
    "for i in hashguy:\n",
    "    print(hashguy['{}'.format(i)])\n",
    "    \n",
    "# OR (MUCH BETTER)\n",
    "\n",
    "print('\\nBETTER:')\n",
    "for i in hashguy:\n",
    "    print(hashguy[str(i)])"
   ]
  },
  {
   "cell_type": "markdown",
   "id": "viral-primary",
   "metadata": {},
   "source": [
    "## Problem 3"
   ]
  },
  {
   "cell_type": "markdown",
   "id": "underlying-jewel",
   "metadata": {},
   "source": [
    "Given a sorted list, return a sorted list of squares"
   ]
  },
  {
   "cell_type": "code",
   "execution_count": 51,
   "id": "palestinian-spectrum",
   "metadata": {},
   "outputs": [
    {
     "data": {
      "text/plain": [
       "[1, 1, 4, 4, 9, 9, 25]"
      ]
     },
     "execution_count": 51,
     "metadata": {},
     "output_type": "execute_result"
    }
   ],
   "source": [
    "def srtsq(sli):\n",
    "    rev = []\n",
    "    ans = []\n",
    "\n",
    "    # loop through doing front and back and append greater one\n",
    "    for i in range(int(len(sli)/2)):\n",
    "        if sli[i]**2 > sli[-1-i]**2:\n",
    "            rev.append(sli[i]**2)\n",
    "            rev.append(sli[-1-i]**2)\n",
    "        elif sli[i]**2 < sli[-1-i]**2:\n",
    "            rev.append(sli[-1-i]**2)\n",
    "            rev.append(sli[i]**2)\n",
    "        else:\n",
    "            rev.append(sli[i]**2)\n",
    "            rev.append(sli[-1-i]**2)\n",
    "            \n",
    "    # account for middle term if array odd length - definitely better way of doing this\n",
    "    if int(len(sli)/2)%2 != 0:\n",
    "        rev.append(sli[int(len(sli)/2)])\n",
    "        \n",
    "    # array in reverse (bc insert at beginning is O(n)) so reverse at end\n",
    "    for i in range(len(rev)):\n",
    "        ans.append(rev[-1-i])\n",
    "        \n",
    "    return ans\n",
    "            \n",
    "srtsq([-11,-3,-1,0,2,4,12])       \n",
    "srtsq([-5,-3,-2,1,2,3])"
   ]
  }
 ],
 "metadata": {
  "kernelspec": {
   "display_name": "Python 3",
   "language": "python",
   "name": "python3"
  },
  "language_info": {
   "codemirror_mode": {
    "name": "ipython",
    "version": 3
   },
   "file_extension": ".py",
   "mimetype": "text/x-python",
   "name": "python",
   "nbconvert_exporter": "python",
   "pygments_lexer": "ipython3",
   "version": "3.7.6"
  }
 },
 "nbformat": 4,
 "nbformat_minor": 5
}
